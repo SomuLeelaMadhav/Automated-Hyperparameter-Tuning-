{
  "nbformat": 4,
  "nbformat_minor": 0,
  "metadata": {
    "colab": {
      "provenance": []
    },
    "kernelspec": {
      "name": "python3",
      "display_name": "Python 3"
    },
    "language_info": {
      "name": "python"
    }
  },
  "cells": [
    {
      "cell_type": "code",
      "execution_count": 3,
      "metadata": {
        "colab": {
          "base_uri": "https://localhost:8080/"
        },
        "id": "izKdDgO0SA2D",
        "outputId": "5758aa75-bb67-4fa4-e54f-39fe19b89e20"
      },
      "outputs": [
        {
          "output_type": "stream",
          "name": "stdout",
          "text": [
            "Collecting optuna\n",
            "  Downloading optuna-3.4.0-py3-none-any.whl (409 kB)\n",
            "\u001b[2K     \u001b[90m━━━━━━━━━━━━━━━━━━━━━━━━━━━━━━━━━━━━━━━━\u001b[0m \u001b[32m409.6/409.6 kB\u001b[0m \u001b[31m6.0 MB/s\u001b[0m eta \u001b[36m0:00:00\u001b[0m\n",
            "\u001b[?25hCollecting alembic>=1.5.0 (from optuna)\n",
            "  Downloading alembic-1.12.1-py3-none-any.whl (226 kB)\n",
            "\u001b[2K     \u001b[90m━━━━━━━━━━━━━━━━━━━━━━━━━━━━━━━━━━━━━━━━\u001b[0m \u001b[32m226.8/226.8 kB\u001b[0m \u001b[31m20.1 MB/s\u001b[0m eta \u001b[36m0:00:00\u001b[0m\n",
            "\u001b[?25hCollecting colorlog (from optuna)\n",
            "  Downloading colorlog-6.7.0-py2.py3-none-any.whl (11 kB)\n",
            "Requirement already satisfied: numpy in /usr/local/lib/python3.10/dist-packages (from optuna) (1.23.5)\n",
            "Requirement already satisfied: packaging>=20.0 in /usr/local/lib/python3.10/dist-packages (from optuna) (23.2)\n",
            "Requirement already satisfied: sqlalchemy>=1.3.0 in /usr/local/lib/python3.10/dist-packages (from optuna) (2.0.23)\n",
            "Requirement already satisfied: tqdm in /usr/local/lib/python3.10/dist-packages (from optuna) (4.66.1)\n",
            "Requirement already satisfied: PyYAML in /usr/local/lib/python3.10/dist-packages (from optuna) (6.0.1)\n",
            "Collecting Mako (from alembic>=1.5.0->optuna)\n",
            "  Downloading Mako-1.3.0-py3-none-any.whl (78 kB)\n",
            "\u001b[2K     \u001b[90m━━━━━━━━━━━━━━━━━━━━━━━━━━━━━━━━━━━━━━━━\u001b[0m \u001b[32m78.6/78.6 kB\u001b[0m \u001b[31m8.1 MB/s\u001b[0m eta \u001b[36m0:00:00\u001b[0m\n",
            "\u001b[?25hRequirement already satisfied: typing-extensions>=4 in /usr/local/lib/python3.10/dist-packages (from alembic>=1.5.0->optuna) (4.5.0)\n",
            "Requirement already satisfied: greenlet!=0.4.17 in /usr/local/lib/python3.10/dist-packages (from sqlalchemy>=1.3.0->optuna) (3.0.1)\n",
            "Requirement already satisfied: MarkupSafe>=0.9.2 in /usr/local/lib/python3.10/dist-packages (from Mako->alembic>=1.5.0->optuna) (2.1.3)\n",
            "Installing collected packages: Mako, colorlog, alembic, optuna\n",
            "Successfully installed Mako-1.3.0 alembic-1.12.1 colorlog-6.7.0 optuna-3.4.0\n"
          ]
        }
      ],
      "source": [
        "pip install optuna\n"
      ]
    },
    {
      "cell_type": "code",
      "source": [
        "pip install scikit-learn\n"
      ],
      "metadata": {
        "colab": {
          "base_uri": "https://localhost:8080/"
        },
        "id": "w0ciWW5HSI56",
        "outputId": "b7978e66-3fb6-4113-8baf-4f38c89e1ad8"
      },
      "execution_count": 4,
      "outputs": [
        {
          "output_type": "stream",
          "name": "stdout",
          "text": [
            "Requirement already satisfied: scikit-learn in /usr/local/lib/python3.10/dist-packages (1.2.2)\n",
            "Requirement already satisfied: numpy>=1.17.3 in /usr/local/lib/python3.10/dist-packages (from scikit-learn) (1.23.5)\n",
            "Requirement already satisfied: scipy>=1.3.2 in /usr/local/lib/python3.10/dist-packages (from scikit-learn) (1.11.3)\n",
            "Requirement already satisfied: joblib>=1.1.1 in /usr/local/lib/python3.10/dist-packages (from scikit-learn) (1.3.2)\n",
            "Requirement already satisfied: threadpoolctl>=2.0.0 in /usr/local/lib/python3.10/dist-packages (from scikit-learn) (3.2.0)\n"
          ]
        }
      ]
    },
    {
      "cell_type": "code",
      "source": [
        "from sklearn.datasets import load_diabetes\n",
        "from sklearn.model_selection import train_test_split\n",
        "\n",
        "# Load Diabetes dataset\n",
        "diabetes = load_diabetes()\n",
        "X, y = diabetes.data, diabetes.target\n",
        "\n",
        "# Split the data into training and testing sets\n",
        "X_train, X_test, y_train, y_test = train_test_split(X, y, test_size=0.2, random_state=42)\n"
      ],
      "metadata": {
        "id": "IwlW41X9SinI"
      },
      "execution_count": 5,
      "outputs": []
    },
    {
      "cell_type": "code",
      "source": [
        "import optuna\n",
        "from sklearn.ensemble import RandomForestRegressor\n",
        "from sklearn.metrics import mean_squared_error\n",
        "\n",
        "def objective(trial):\n",
        "    # Define hyperparameters to be optimized\n",
        "    n_estimators = trial.suggest_int('n_estimators', 10, 100)\n",
        "    max_depth = trial.suggest_int('max_depth', 2, 32, log=True)\n",
        "\n",
        "    # Create a RandomForestRegressor with the suggested hyperparameters\n",
        "    model = RandomForestRegressor(n_estimators=n_estimators, max_depth=max_depth)\n",
        "\n",
        "    # Train the model\n",
        "    model.fit(X_train, y_train)\n",
        "\n",
        "    # Make predictions on the test set\n",
        "    predictions = model.predict(X_test)\n",
        "\n",
        "    # Evaluate the model using mean squared error\n",
        "    mse = mean_squared_error(y_test, predictions)\n",
        "\n",
        "    return mse\n"
      ],
      "metadata": {
        "id": "mj99wiHqSkz9"
      },
      "execution_count": 6,
      "outputs": []
    },
    {
      "cell_type": "code",
      "source": [
        "# Create an Optuna study\n",
        "study = optuna.create_study(direction='minimize')  # Note: We use 'minimize' since we're dealing with mean squared error\n",
        "\n",
        "# Optimize the study, specifying the number of trials\n",
        "study.optimize(objective, n_trials=50)\n",
        "\n",
        "# Print the best parameters and their corresponding value\n",
        "print('Best trial:')\n",
        "trial = study.best_trial\n",
        "\n",
        "print('Mean Squared Error: {}'.format(trial.value))\n",
        "print('Best hyperparameters: {}'.format(trial.params))\n"
      ],
      "metadata": {
        "colab": {
          "base_uri": "https://localhost:8080/"
        },
        "id": "i8cA7OmFSnP7",
        "outputId": "bb4fc259-16be-4d47-9efb-7d6ff9e7f28f"
      },
      "execution_count": 7,
      "outputs": [
        {
          "output_type": "stream",
          "name": "stderr",
          "text": [
            "[I 2023-11-27 17:54:28,676] A new study created in memory with name: no-name-7e941d40-3265-4b87-a7dd-77d40d03e60a\n",
            "[I 2023-11-27 17:54:28,771] Trial 0 finished with value: 3211.708963795256 and parameters: {'n_estimators': 15, 'max_depth': 28}. Best is trial 0 with value: 3211.708963795256.\n",
            "[I 2023-11-27 17:54:28,839] Trial 1 finished with value: 2725.3139026387366 and parameters: {'n_estimators': 22, 'max_depth': 3}. Best is trial 1 with value: 2725.3139026387366.\n",
            "[I 2023-11-27 17:54:29,112] Trial 2 finished with value: 2800.9693175516527 and parameters: {'n_estimators': 81, 'max_depth': 3}. Best is trial 1 with value: 2725.3139026387366.\n",
            "[I 2023-11-27 17:54:29,541] Trial 3 finished with value: 2827.425876703407 and parameters: {'n_estimators': 76, 'max_depth': 4}. Best is trial 1 with value: 2725.3139026387366.\n",
            "[I 2023-11-27 17:54:29,890] Trial 4 finished with value: 2991.406410503665 and parameters: {'n_estimators': 99, 'max_depth': 13}. Best is trial 1 with value: 2725.3139026387366.\n",
            "[I 2023-11-27 17:54:30,065] Trial 5 finished with value: 2830.162489461139 and parameters: {'n_estimators': 84, 'max_depth': 4}. Best is trial 1 with value: 2725.3139026387366.\n",
            "[I 2023-11-27 17:54:30,177] Trial 6 finished with value: 2823.9902469209715 and parameters: {'n_estimators': 52, 'max_depth': 4}. Best is trial 1 with value: 2725.3139026387366.\n",
            "[I 2023-11-27 17:54:30,383] Trial 7 finished with value: 2959.9510127039503 and parameters: {'n_estimators': 66, 'max_depth': 2}. Best is trial 1 with value: 2725.3139026387366.\n",
            "[I 2023-11-27 17:54:30,646] Trial 8 finished with value: 2785.569894138843 and parameters: {'n_estimators': 73, 'max_depth': 3}. Best is trial 1 with value: 2725.3139026387366.\n",
            "[I 2023-11-27 17:54:31,053] Trial 9 finished with value: 2952.2182317804436 and parameters: {'n_estimators': 91, 'max_depth': 6}. Best is trial 1 with value: 2725.3139026387366.\n",
            "[I 2023-11-27 17:54:31,114] Trial 10 finished with value: 2935.314425601331 and parameters: {'n_estimators': 12, 'max_depth': 2}. Best is trial 1 with value: 2725.3139026387366.\n",
            "[I 2023-11-27 17:54:31,252] Trial 11 finished with value: 2999.365600962756 and parameters: {'n_estimators': 43, 'max_depth': 2}. Best is trial 1 with value: 2725.3139026387366.\n",
            "[I 2023-11-27 17:54:31,468] Trial 12 finished with value: 3074.342038517727 and parameters: {'n_estimators': 37, 'max_depth': 7}. Best is trial 1 with value: 2725.3139026387366.\n",
            "[I 2023-11-27 17:54:31,608] Trial 13 finished with value: 2772.656060557271 and parameters: {'n_estimators': 28, 'max_depth': 3}. Best is trial 1 with value: 2725.3139026387366.\n",
            "[I 2023-11-27 17:54:31,738] Trial 14 finished with value: 3052.8127192768366 and parameters: {'n_estimators': 27, 'max_depth': 6}. Best is trial 1 with value: 2725.3139026387366.\n",
            "[I 2023-11-27 17:54:31,911] Trial 15 finished with value: 2997.4837592244803 and parameters: {'n_estimators': 27, 'max_depth': 2}. Best is trial 1 with value: 2725.3139026387366.\n",
            "[I 2023-11-27 17:54:32,042] Trial 16 finished with value: 2731.6340046416135 and parameters: {'n_estimators': 25, 'max_depth': 3}. Best is trial 1 with value: 2725.3139026387366.\n",
            "[I 2023-11-27 17:54:32,386] Trial 17 finished with value: 3003.5045568795495 and parameters: {'n_estimators': 55, 'max_depth': 9}. Best is trial 1 with value: 2725.3139026387366.\n",
            "[I 2023-11-27 17:54:32,484] Trial 18 finished with value: 2734.821307695407 and parameters: {'n_estimators': 19, 'max_depth': 3}. Best is trial 1 with value: 2725.3139026387366.\n",
            "[I 2023-11-27 17:54:32,676] Trial 19 finished with value: 2799.8727443131334 and parameters: {'n_estimators': 41, 'max_depth': 5}. Best is trial 1 with value: 2725.3139026387366.\n",
            "[I 2023-11-27 17:54:32,935] Trial 20 finished with value: 2927.6306011288943 and parameters: {'n_estimators': 32, 'max_depth': 9}. Best is trial 1 with value: 2725.3139026387366.\n",
            "[I 2023-11-27 17:54:33,117] Trial 21 finished with value: 2647.184468749125 and parameters: {'n_estimators': 19, 'max_depth': 3}. Best is trial 21 with value: 2647.184468749125.\n",
            "[I 2023-11-27 17:54:33,240] Trial 22 finished with value: 2834.9088945758176 and parameters: {'n_estimators': 20, 'max_depth': 3}. Best is trial 21 with value: 2647.184468749125.\n",
            "[I 2023-11-27 17:54:33,294] Trial 23 finished with value: 3125.9019931234266 and parameters: {'n_estimators': 10, 'max_depth': 2}. Best is trial 21 with value: 2647.184468749125.\n",
            "[I 2023-11-27 17:54:33,476] Trial 24 finished with value: 2842.160739264958 and parameters: {'n_estimators': 48, 'max_depth': 4}. Best is trial 21 with value: 2647.184468749125.\n",
            "[I 2023-11-27 17:54:33,641] Trial 25 finished with value: 2828.437413132813 and parameters: {'n_estimators': 21, 'max_depth': 3}. Best is trial 21 with value: 2647.184468749125.\n",
            "[I 2023-11-27 17:54:33,857] Trial 26 finished with value: 2845.7097453458437 and parameters: {'n_estimators': 35, 'max_depth': 5}. Best is trial 21 with value: 2647.184468749125.\n",
            "[I 2023-11-27 17:54:33,998] Trial 27 finished with value: 2951.928093515437 and parameters: {'n_estimators': 20, 'max_depth': 2}. Best is trial 21 with value: 2647.184468749125.\n",
            "[I 2023-11-27 17:54:34,338] Trial 28 finished with value: 2855.213062398133 and parameters: {'n_estimators': 64, 'max_depth': 4}. Best is trial 21 with value: 2647.184468749125.\n",
            "[I 2023-11-27 17:54:34,444] Trial 29 finished with value: 3190.234556803995 and parameters: {'n_estimators': 15, 'max_depth': 29}. Best is trial 21 with value: 2647.184468749125.\n",
            "[I 2023-11-27 17:54:34,595] Trial 30 finished with value: 2973.3714679875006 and parameters: {'n_estimators': 26, 'max_depth': 25}. Best is trial 21 with value: 2647.184468749125.\n",
            "[I 2023-11-27 17:54:34,682] Trial 31 finished with value: 2919.8226672029996 and parameters: {'n_estimators': 18, 'max_depth': 3}. Best is trial 21 with value: 2647.184468749125.\n",
            "[I 2023-11-27 17:54:34,792] Trial 32 finished with value: 2750.3564518671756 and parameters: {'n_estimators': 24, 'max_depth': 3}. Best is trial 21 with value: 2647.184468749125.\n",
            "[I 2023-11-27 17:54:34,944] Trial 33 finished with value: 2829.5788310077432 and parameters: {'n_estimators': 32, 'max_depth': 3}. Best is trial 21 with value: 2647.184468749125.\n",
            "[I 2023-11-27 17:54:35,041] Trial 34 finished with value: 2834.784656665014 and parameters: {'n_estimators': 14, 'max_depth': 5}. Best is trial 21 with value: 2647.184468749125.\n",
            "[I 2023-11-27 17:54:35,100] Trial 35 finished with value: 2992.203461472608 and parameters: {'n_estimators': 10, 'max_depth': 4}. Best is trial 21 with value: 2647.184468749125.\n",
            "[I 2023-11-27 17:54:35,243] Trial 36 finished with value: 2763.0589099136837 and parameters: {'n_estimators': 40, 'max_depth': 3}. Best is trial 21 with value: 2647.184468749125.\n",
            "[I 2023-11-27 17:54:35,329] Trial 37 finished with value: 2809.418215322593 and parameters: {'n_estimators': 17, 'max_depth': 4}. Best is trial 21 with value: 2647.184468749125.\n",
            "[I 2023-11-27 17:54:35,478] Trial 38 finished with value: 2986.34629262898 and parameters: {'n_estimators': 47, 'max_depth': 2}. Best is trial 21 with value: 2647.184468749125.\n",
            "[I 2023-11-27 17:54:35,729] Trial 39 finished with value: 2929.082063557761 and parameters: {'n_estimators': 31, 'max_depth': 14}. Best is trial 21 with value: 2647.184468749125.\n",
            "[I 2023-11-27 17:54:35,856] Trial 40 finished with value: 2734.0194181779057 and parameters: {'n_estimators': 23, 'max_depth': 4}. Best is trial 21 with value: 2647.184468749125.\n",
            "[I 2023-11-27 17:54:36,048] Trial 41 finished with value: 2884.525454415334 and parameters: {'n_estimators': 22, 'max_depth': 4}. Best is trial 21 with value: 2647.184468749125.\n",
            "[I 2023-11-27 17:54:36,419] Trial 42 finished with value: 2760.3341440980444 and parameters: {'n_estimators': 36, 'max_depth': 3}. Best is trial 21 with value: 2647.184468749125.\n",
            "[I 2023-11-27 17:54:36,537] Trial 43 finished with value: 2801.761100998463 and parameters: {'n_estimators': 15, 'max_depth': 4}. Best is trial 21 with value: 2647.184468749125.\n",
            "[I 2023-11-27 17:54:36,740] Trial 44 finished with value: 2848.3995718393667 and parameters: {'n_estimators': 24, 'max_depth': 3}. Best is trial 21 with value: 2647.184468749125.\n",
            "[I 2023-11-27 17:54:37,072] Trial 45 finished with value: 2808.1631128646723 and parameters: {'n_estimators': 31, 'max_depth': 5}. Best is trial 21 with value: 2647.184468749125.\n",
            "[I 2023-11-27 17:54:37,272] Trial 46 finished with value: 3042.111262666917 and parameters: {'n_estimators': 18, 'max_depth': 2}. Best is trial 21 with value: 2647.184468749125.\n",
            "[I 2023-11-27 17:54:37,956] Trial 47 finished with value: 2860.077918274297 and parameters: {'n_estimators': 65, 'max_depth': 5}. Best is trial 21 with value: 2647.184468749125.\n",
            "[I 2023-11-27 17:54:38,273] Trial 48 finished with value: 2899.5890199861155 and parameters: {'n_estimators': 27, 'max_depth': 4}. Best is trial 21 with value: 2647.184468749125.\n",
            "[I 2023-11-27 17:54:39,019] Trial 49 finished with value: 2884.918986263831 and parameters: {'n_estimators': 99, 'max_depth': 6}. Best is trial 21 with value: 2647.184468749125.\n"
          ]
        },
        {
          "output_type": "stream",
          "name": "stdout",
          "text": [
            "Best trial:\n",
            "Mean Squared Error: 2647.184468749125\n",
            "Best hyperparameters: {'n_estimators': 19, 'max_depth': 3}\n"
          ]
        }
      ]
    },
    {
      "cell_type": "code",
      "source": [
        "best_params = study.best_params\n",
        "final_model = RandomForestRegressor(**best_params)\n",
        "\n",
        "# Train the final model with all your data\n",
        "final_model.fit(X, y)\n",
        "\n",
        "# Make predictions or use the model as needed\n"
      ],
      "metadata": {
        "colab": {
          "base_uri": "https://localhost:8080/",
          "height": 74
        },
        "id": "BcdwjlOMSpsy",
        "outputId": "720b430e-8257-4151-a781-434799b7a211"
      },
      "execution_count": 8,
      "outputs": [
        {
          "output_type": "execute_result",
          "data": {
            "text/plain": [
              "RandomForestRegressor(max_depth=3, n_estimators=19)"
            ],
            "text/html": [
              "<style>#sk-container-id-1 {color: black;background-color: white;}#sk-container-id-1 pre{padding: 0;}#sk-container-id-1 div.sk-toggleable {background-color: white;}#sk-container-id-1 label.sk-toggleable__label {cursor: pointer;display: block;width: 100%;margin-bottom: 0;padding: 0.3em;box-sizing: border-box;text-align: center;}#sk-container-id-1 label.sk-toggleable__label-arrow:before {content: \"▸\";float: left;margin-right: 0.25em;color: #696969;}#sk-container-id-1 label.sk-toggleable__label-arrow:hover:before {color: black;}#sk-container-id-1 div.sk-estimator:hover label.sk-toggleable__label-arrow:before {color: black;}#sk-container-id-1 div.sk-toggleable__content {max-height: 0;max-width: 0;overflow: hidden;text-align: left;background-color: #f0f8ff;}#sk-container-id-1 div.sk-toggleable__content pre {margin: 0.2em;color: black;border-radius: 0.25em;background-color: #f0f8ff;}#sk-container-id-1 input.sk-toggleable__control:checked~div.sk-toggleable__content {max-height: 200px;max-width: 100%;overflow: auto;}#sk-container-id-1 input.sk-toggleable__control:checked~label.sk-toggleable__label-arrow:before {content: \"▾\";}#sk-container-id-1 div.sk-estimator input.sk-toggleable__control:checked~label.sk-toggleable__label {background-color: #d4ebff;}#sk-container-id-1 div.sk-label input.sk-toggleable__control:checked~label.sk-toggleable__label {background-color: #d4ebff;}#sk-container-id-1 input.sk-hidden--visually {border: 0;clip: rect(1px 1px 1px 1px);clip: rect(1px, 1px, 1px, 1px);height: 1px;margin: -1px;overflow: hidden;padding: 0;position: absolute;width: 1px;}#sk-container-id-1 div.sk-estimator {font-family: monospace;background-color: #f0f8ff;border: 1px dotted black;border-radius: 0.25em;box-sizing: border-box;margin-bottom: 0.5em;}#sk-container-id-1 div.sk-estimator:hover {background-color: #d4ebff;}#sk-container-id-1 div.sk-parallel-item::after {content: \"\";width: 100%;border-bottom: 1px solid gray;flex-grow: 1;}#sk-container-id-1 div.sk-label:hover label.sk-toggleable__label {background-color: #d4ebff;}#sk-container-id-1 div.sk-serial::before {content: \"\";position: absolute;border-left: 1px solid gray;box-sizing: border-box;top: 0;bottom: 0;left: 50%;z-index: 0;}#sk-container-id-1 div.sk-serial {display: flex;flex-direction: column;align-items: center;background-color: white;padding-right: 0.2em;padding-left: 0.2em;position: relative;}#sk-container-id-1 div.sk-item {position: relative;z-index: 1;}#sk-container-id-1 div.sk-parallel {display: flex;align-items: stretch;justify-content: center;background-color: white;position: relative;}#sk-container-id-1 div.sk-item::before, #sk-container-id-1 div.sk-parallel-item::before {content: \"\";position: absolute;border-left: 1px solid gray;box-sizing: border-box;top: 0;bottom: 0;left: 50%;z-index: -1;}#sk-container-id-1 div.sk-parallel-item {display: flex;flex-direction: column;z-index: 1;position: relative;background-color: white;}#sk-container-id-1 div.sk-parallel-item:first-child::after {align-self: flex-end;width: 50%;}#sk-container-id-1 div.sk-parallel-item:last-child::after {align-self: flex-start;width: 50%;}#sk-container-id-1 div.sk-parallel-item:only-child::after {width: 0;}#sk-container-id-1 div.sk-dashed-wrapped {border: 1px dashed gray;margin: 0 0.4em 0.5em 0.4em;box-sizing: border-box;padding-bottom: 0.4em;background-color: white;}#sk-container-id-1 div.sk-label label {font-family: monospace;font-weight: bold;display: inline-block;line-height: 1.2em;}#sk-container-id-1 div.sk-label-container {text-align: center;}#sk-container-id-1 div.sk-container {/* jupyter's `normalize.less` sets `[hidden] { display: none; }` but bootstrap.min.css set `[hidden] { display: none !important; }` so we also need the `!important` here to be able to override the default hidden behavior on the sphinx rendered scikit-learn.org. See: https://github.com/scikit-learn/scikit-learn/issues/21755 */display: inline-block !important;position: relative;}#sk-container-id-1 div.sk-text-repr-fallback {display: none;}</style><div id=\"sk-container-id-1\" class=\"sk-top-container\"><div class=\"sk-text-repr-fallback\"><pre>RandomForestRegressor(max_depth=3, n_estimators=19)</pre><b>In a Jupyter environment, please rerun this cell to show the HTML representation or trust the notebook. <br />On GitHub, the HTML representation is unable to render, please try loading this page with nbviewer.org.</b></div><div class=\"sk-container\" hidden><div class=\"sk-item\"><div class=\"sk-estimator sk-toggleable\"><input class=\"sk-toggleable__control sk-hidden--visually\" id=\"sk-estimator-id-1\" type=\"checkbox\" checked><label for=\"sk-estimator-id-1\" class=\"sk-toggleable__label sk-toggleable__label-arrow\">RandomForestRegressor</label><div class=\"sk-toggleable__content\"><pre>RandomForestRegressor(max_depth=3, n_estimators=19)</pre></div></div></div></div></div>"
            ]
          },
          "metadata": {},
          "execution_count": 8
        }
      ]
    },
    {
      "cell_type": "code",
      "source": [
        "# Use the best hyperparameters\n",
        "best_params = study.best_params\n",
        "final_model = RandomForestRegressor(**best_params)\n",
        "\n",
        "# Train the final model with all your data\n",
        "final_model.fit(X, y)\n",
        "\n",
        "# Make predictions or use the model as needed\n"
      ],
      "metadata": {
        "colab": {
          "base_uri": "https://localhost:8080/",
          "height": 74
        },
        "id": "6ETEgKpfSvfV",
        "outputId": "da2491cd-196f-4cf5-85e0-d97c750b3341"
      },
      "execution_count": 9,
      "outputs": [
        {
          "output_type": "execute_result",
          "data": {
            "text/plain": [
              "RandomForestRegressor(max_depth=3, n_estimators=19)"
            ],
            "text/html": [
              "<style>#sk-container-id-2 {color: black;background-color: white;}#sk-container-id-2 pre{padding: 0;}#sk-container-id-2 div.sk-toggleable {background-color: white;}#sk-container-id-2 label.sk-toggleable__label {cursor: pointer;display: block;width: 100%;margin-bottom: 0;padding: 0.3em;box-sizing: border-box;text-align: center;}#sk-container-id-2 label.sk-toggleable__label-arrow:before {content: \"▸\";float: left;margin-right: 0.25em;color: #696969;}#sk-container-id-2 label.sk-toggleable__label-arrow:hover:before {color: black;}#sk-container-id-2 div.sk-estimator:hover label.sk-toggleable__label-arrow:before {color: black;}#sk-container-id-2 div.sk-toggleable__content {max-height: 0;max-width: 0;overflow: hidden;text-align: left;background-color: #f0f8ff;}#sk-container-id-2 div.sk-toggleable__content pre {margin: 0.2em;color: black;border-radius: 0.25em;background-color: #f0f8ff;}#sk-container-id-2 input.sk-toggleable__control:checked~div.sk-toggleable__content {max-height: 200px;max-width: 100%;overflow: auto;}#sk-container-id-2 input.sk-toggleable__control:checked~label.sk-toggleable__label-arrow:before {content: \"▾\";}#sk-container-id-2 div.sk-estimator input.sk-toggleable__control:checked~label.sk-toggleable__label {background-color: #d4ebff;}#sk-container-id-2 div.sk-label input.sk-toggleable__control:checked~label.sk-toggleable__label {background-color: #d4ebff;}#sk-container-id-2 input.sk-hidden--visually {border: 0;clip: rect(1px 1px 1px 1px);clip: rect(1px, 1px, 1px, 1px);height: 1px;margin: -1px;overflow: hidden;padding: 0;position: absolute;width: 1px;}#sk-container-id-2 div.sk-estimator {font-family: monospace;background-color: #f0f8ff;border: 1px dotted black;border-radius: 0.25em;box-sizing: border-box;margin-bottom: 0.5em;}#sk-container-id-2 div.sk-estimator:hover {background-color: #d4ebff;}#sk-container-id-2 div.sk-parallel-item::after {content: \"\";width: 100%;border-bottom: 1px solid gray;flex-grow: 1;}#sk-container-id-2 div.sk-label:hover label.sk-toggleable__label {background-color: #d4ebff;}#sk-container-id-2 div.sk-serial::before {content: \"\";position: absolute;border-left: 1px solid gray;box-sizing: border-box;top: 0;bottom: 0;left: 50%;z-index: 0;}#sk-container-id-2 div.sk-serial {display: flex;flex-direction: column;align-items: center;background-color: white;padding-right: 0.2em;padding-left: 0.2em;position: relative;}#sk-container-id-2 div.sk-item {position: relative;z-index: 1;}#sk-container-id-2 div.sk-parallel {display: flex;align-items: stretch;justify-content: center;background-color: white;position: relative;}#sk-container-id-2 div.sk-item::before, #sk-container-id-2 div.sk-parallel-item::before {content: \"\";position: absolute;border-left: 1px solid gray;box-sizing: border-box;top: 0;bottom: 0;left: 50%;z-index: -1;}#sk-container-id-2 div.sk-parallel-item {display: flex;flex-direction: column;z-index: 1;position: relative;background-color: white;}#sk-container-id-2 div.sk-parallel-item:first-child::after {align-self: flex-end;width: 50%;}#sk-container-id-2 div.sk-parallel-item:last-child::after {align-self: flex-start;width: 50%;}#sk-container-id-2 div.sk-parallel-item:only-child::after {width: 0;}#sk-container-id-2 div.sk-dashed-wrapped {border: 1px dashed gray;margin: 0 0.4em 0.5em 0.4em;box-sizing: border-box;padding-bottom: 0.4em;background-color: white;}#sk-container-id-2 div.sk-label label {font-family: monospace;font-weight: bold;display: inline-block;line-height: 1.2em;}#sk-container-id-2 div.sk-label-container {text-align: center;}#sk-container-id-2 div.sk-container {/* jupyter's `normalize.less` sets `[hidden] { display: none; }` but bootstrap.min.css set `[hidden] { display: none !important; }` so we also need the `!important` here to be able to override the default hidden behavior on the sphinx rendered scikit-learn.org. See: https://github.com/scikit-learn/scikit-learn/issues/21755 */display: inline-block !important;position: relative;}#sk-container-id-2 div.sk-text-repr-fallback {display: none;}</style><div id=\"sk-container-id-2\" class=\"sk-top-container\"><div class=\"sk-text-repr-fallback\"><pre>RandomForestRegressor(max_depth=3, n_estimators=19)</pre><b>In a Jupyter environment, please rerun this cell to show the HTML representation or trust the notebook. <br />On GitHub, the HTML representation is unable to render, please try loading this page with nbviewer.org.</b></div><div class=\"sk-container\" hidden><div class=\"sk-item\"><div class=\"sk-estimator sk-toggleable\"><input class=\"sk-toggleable__control sk-hidden--visually\" id=\"sk-estimator-id-2\" type=\"checkbox\" checked><label for=\"sk-estimator-id-2\" class=\"sk-toggleable__label sk-toggleable__label-arrow\">RandomForestRegressor</label><div class=\"sk-toggleable__content\"><pre>RandomForestRegressor(max_depth=3, n_estimators=19)</pre></div></div></div></div></div>"
            ]
          },
          "metadata": {},
          "execution_count": 9
        }
      ]
    },
    {
      "cell_type": "markdown",
      "source": [
        "**This means that, according to the optimization process, a RandomForestRegressor with 66 estimators and a maximum depth of 3 resulted in the best performance on your Diabetes dataset**"
      ],
      "metadata": {
        "id": "h3NJMgfK35dm"
      }
    },
    {
      "cell_type": "code",
      "source": [
        "pip install joblib\n"
      ],
      "metadata": {
        "colab": {
          "base_uri": "https://localhost:8080/"
        },
        "id": "INaGOFPI6WME",
        "outputId": "b9e15763-9f00-4718-b753-0919c4fdf0cd"
      },
      "execution_count": 10,
      "outputs": [
        {
          "output_type": "stream",
          "name": "stdout",
          "text": [
            "Requirement already satisfied: joblib in /usr/local/lib/python3.10/dist-packages (1.3.2)\n"
          ]
        }
      ]
    },
    {
      "cell_type": "code",
      "source": [
        "import joblib\n",
        "\n",
        "# Use the best hyperparameters\n",
        "best_params = study.best_params\n",
        "final_model = RandomForestRegressor(**best_params)\n",
        "\n",
        "# Train the final model with all your data\n",
        "final_model.fit(X, y)\n",
        "\n",
        "# Save the model to a file\n",
        "joblib.dump(final_model, 'Automated_HyperParameter_Tuning_ModelRF.joblib')\n"
      ],
      "metadata": {
        "colab": {
          "base_uri": "https://localhost:8080/"
        },
        "id": "KWnwkDdM6Wpg",
        "outputId": "3da6096a-7927-4cc2-de44-057d5cd14355"
      },
      "execution_count": 11,
      "outputs": [
        {
          "output_type": "execute_result",
          "data": {
            "text/plain": [
              "['Automated_HyperParameter_Tuning_ModelRF.joblib']"
            ]
          },
          "metadata": {},
          "execution_count": 11
        }
      ]
    },
    {
      "cell_type": "code",
      "source": [],
      "metadata": {
        "id": "nZ6fN0FH6lFT"
      },
      "execution_count": 11,
      "outputs": []
    }
  ]
}